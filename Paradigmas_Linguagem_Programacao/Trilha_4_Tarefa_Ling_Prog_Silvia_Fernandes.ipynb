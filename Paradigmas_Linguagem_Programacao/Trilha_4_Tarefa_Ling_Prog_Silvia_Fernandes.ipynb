{
  "nbformat": 4,
  "nbformat_minor": 0,
  "metadata": {
    "colab": {
      "provenance": [],
      "collapsed_sections": []
    },
    "kernelspec": {
      "name": "python3",
      "display_name": "Python 3"
    },
    "language_info": {
      "name": "python"
    }
  },
  "cells": [
    {
      "cell_type": "markdown",
      "source": [
        "<head>\n",
        "  <meta name=\"author\" content=\"Rogério de Oliveira\">\n",
        "  <meta institution=\"author\" content=\"Universidade Presbiteriana Mackenzie\">\n",
        "</head>\n",
        "\n",
        "<img src=\"http://meusite.mackenzie.br/rogerio/mackenzie_logo/UPM.2_horizontal_vermelho.jpg\" width=300, align=\"right\">\n",
        "<!-- <h1 align=left><font size = 6, style=\"color:rgb(200,0,0)\"> optional title </font></h1> -->"
      ],
      "metadata": {
        "id": "8ejvmyEaFngF"
      }
    },
    {
      "cell_type": "markdown",
      "source": [
        "______________________________________________________________________________________________\n",
        "\n",
        "Aluna: **SILVIA HELENA BARROS FERNANDES**\n",
        "\n",
        "Curso: **BDPA-E - Big Data & Analytics**\n",
        "\n",
        "Componente: **Paradigmas de Linguagem de Programação em Ciência de Dados**\n",
        "\n",
        "Trilha 4: **Tarefa**\n",
        "\n",
        "______________________________________________________________________________________________"
      ],
      "metadata": {
        "id": "TVkHbGUSFSOu"
      }
    },
    {
      "cell_type": "markdown",
      "source": [
        "**EDA - ANÁLISE EXPLORATÓRIA DE DADOS**\n",
        "\n",
        "Datasets escolhidos: **Média de anos escolares para homens e mulheres de 25 anos ou mais**\n",
        "\n",
        "Descrição: Os datasets escolhidos apresentam a média de anos escolares frequentados pelos grupos e gêneros especificados, ou seja, homens e mulheres na faixa etária de 25 anos ou mais.\n",
        "\n",
        "Fonte: https://www.gapminder.org/ | http://www.healthmetricsandevaluation.org/"
      ],
      "metadata": {
        "id": "sANyVJ3uGV5f"
      }
    },
    {
      "cell_type": "code",
      "source": [
        "# importe das bibliotecas\n",
        "\n",
        "import numpy as np\n",
        "import pandas as pd\n",
        "import matplotlib.pyplot as plt\n",
        "import seaborn as sns"
      ],
      "metadata": {
        "id": "-K1qRgO8IBg1"
      },
      "execution_count": null,
      "outputs": []
    },
    {
      "cell_type": "markdown",
      "source": [
        "**LEITURA DO DATASET**\n",
        "\n"
      ],
      "metadata": {
        "id": "8d1deV7WKpiy"
      }
    },
    {
      "cell_type": "code",
      "source": [
        "# leitura dos arquivos CSV e atribuição aos dataFrames\n",
        "\n",
        "# df_m -> Dataset Média de anos na escola de mulheres de 25 anos ou mais\n",
        "df_m = pd.read_csv('https://raw.githubusercontent.com/silviahbf/MACK-Big_Data_Analytics/main/Paradigmas_Linguagem_Programacao/mean_years_in_school_women_25_years_and_older.csv')\n",
        "\n",
        "# df_h -> Dataset Média de anos na escola de homens de 25 anos ou mais\n",
        "df_h = pd.read_csv('https://raw.githubusercontent.com/silviahbf/MACK-Big_Data_Analytics/main/Paradigmas_Linguagem_Programacao/mean_years_in_school_men_25_years_and_older.csv')"
      ],
      "metadata": {
        "id": "bffl_Ir0IKZE"
      },
      "execution_count": null,
      "outputs": []
    },
    {
      "cell_type": "code",
      "source": [
        "# verificação da quantidade de linhas e colunas dos dataFrames\n",
        "\n",
        "print(df_m.shape)\n",
        "print('\\n')\n",
        "print(df_h.shape)"
      ],
      "metadata": {
        "colab": {
          "base_uri": "https://localhost:8080/"
        },
        "id": "ek4vWsjrKiEO",
        "outputId": "58396eb1-459e-4064-94e5-de933906c22f"
      },
      "execution_count": null,
      "outputs": [
        {
          "output_type": "stream",
          "name": "stdout",
          "text": [
            "(175, 41)\n",
            "\n",
            "\n",
            "(175, 41)\n"
          ]
        }
      ]
    },
    {
      "cell_type": "code",
      "source": [
        "# exibição das 5 primeiras linhas do dataFrame\n",
        "print(df_m.head())\n",
        "print('\\n')\n",
        "print(df_h.head())"
      ],
      "metadata": {
        "colab": {
          "base_uri": "https://localhost:8080/"
        },
        "id": "VL_mKFpkJwr9",
        "outputId": "9766631f-8829-4914-bc53-1a27613bb8d8"
      },
      "execution_count": null,
      "outputs": [
        {
          "output_type": "stream",
          "name": "stdout",
          "text": [
            "                country  1969  1970  1971  1972  1973  1974  1975  1976  1977  \\\n",
            "0           Afghanistan   0.0   0.1   0.1   0.1   0.1   0.1   0.1   0.1   0.1   \n",
            "1                Angola   0.5   0.5   0.5   0.5   0.6   0.6   0.6   0.7   0.7   \n",
            "2               Albania   3.9   4.0   4.1   4.2   4.3   4.5   4.6   4.7   4.8   \n",
            "3  United Arab Emirates   1.5   1.6   1.7   1.8   1.9   2.0   2.2   2.3   2.4   \n",
            "4             Argentina   5.5   5.6   5.7   5.9   6.0   6.1   6.2   6.3   6.5   \n",
            "\n",
            "   ...  1999  2000  2001  2002  2003  2004  2005  2006  2007  2008  \n",
            "0  ...   0.2   0.3   0.3   0.3   0.3   0.3   0.3   0.3   0.3   0.4  \n",
            "1  ...   1.9   2.0   2.1   2.2   2.3   2.4   2.5   2.6   2.7   2.8  \n",
            "2  ...   8.0   8.2   8.3   8.5   8.6   8.8   8.9   9.1   9.2   9.4  \n",
            "3  ...   6.4   6.6   6.9   7.1   7.3   7.5   7.7   7.9   8.1   8.3  \n",
            "4  ...   9.1   9.2   9.3   9.4   9.5   9.6   9.8   9.9  10.0  10.1  \n",
            "\n",
            "[5 rows x 41 columns]\n",
            "\n",
            "\n",
            "                country  1969  1970  1971  1972  1973  1974  1975  1976  1977  \\\n",
            "0           Afghanistan   0.7   0.7   0.8   0.8   0.8   0.9   0.9   0.9   1.0   \n",
            "1                Angola   1.4   1.5   1.5   1.6   1.7   1.7   1.8   1.9   2.0   \n",
            "2               Albania   5.1   5.2   5.3   5.5   5.6   5.7   5.9   6.0   6.1   \n",
            "3  United Arab Emirates   3.0   3.1   3.2   3.3   3.5   3.6   3.8   3.9   4.1   \n",
            "4             Argentina   5.9   6.0   6.1   6.2   6.3   6.4   6.6   6.7   6.8   \n",
            "\n",
            "   ...  1999  2000  2001  2002  2003  2004  2005  2006  2007  2008  \n",
            "0  ...   2.1   2.1   2.2   2.3   2.3   2.4   2.4   2.5   2.6   2.6  \n",
            "1  ...   4.0   4.1   4.3   4.4   4.5   4.6   4.7   4.9   5.0   5.1  \n",
            "2  ...   9.1   9.2   9.4   9.5   9.6   9.8   9.9  10.0  10.1  10.2  \n",
            "3  ...   8.0   8.2   8.4   8.5   8.7   8.8   9.0   9.2   9.3   9.5  \n",
            "4  ...   8.9   9.0   9.1   9.2   9.3   9.4   9.5   9.6   9.7   9.8  \n",
            "\n",
            "[5 rows x 41 columns]\n"
          ]
        }
      ]
    },
    {
      "cell_type": "code",
      "source": [
        "# exibição das 5 últimas linhas do dataFrame\n",
        "print(df_m.tail())\n",
        "print('\\n')\n",
        "print(df_h.tail())"
      ],
      "metadata": {
        "colab": {
          "base_uri": "https://localhost:8080/"
        },
        "id": "28uaOOTuJ0Tk",
        "outputId": "0c77ee17-9813-4cbf-ff5d-e9b535a4a306"
      },
      "execution_count": null,
      "outputs": [
        {
          "output_type": "stream",
          "name": "stdout",
          "text": [
            "          country  1969  1970  1971  1972  1973  1974  1975  1976  1977  ...  \\\n",
            "170         Samoa   4.3   4.5   4.7   4.9   5.0   5.2   5.4   5.6   5.7  ...   \n",
            "171         Yemen   0.1   0.1   0.1   0.1   0.1   0.1   0.1   0.1   0.1  ...   \n",
            "172  South Africa   2.5   2.7   2.8   2.9   3.1   3.2   3.3   3.5   3.6  ...   \n",
            "173        Zambia   1.1   1.2   1.2   1.3   1.4   1.4   1.5   1.6   1.6  ...   \n",
            "174      Zimbabwe   1.4   1.5   1.6   1.7   1.8   1.9   2.0   2.1   2.2  ...   \n",
            "\n",
            "     1999  2000  2001  2002  2003  2004  2005  2006  2007  2008  \n",
            "170  10.3  10.5  10.7  10.9  11.1  11.3  11.5  11.7  11.8  12.0  \n",
            "171   0.4   0.5   0.5   0.5   0.6   0.6   0.6   0.7   0.7   0.7  \n",
            "172   7.0   7.1   7.3   7.5   7.6   7.8   8.0   8.2   8.3   8.5  \n",
            "173   3.9   4.1   4.2   4.3   4.5   4.6   4.8   4.9   5.0   5.2  \n",
            "174   5.2   5.4   5.5   5.7   5.9   6.0   6.2   6.4   6.6   6.7  \n",
            "\n",
            "[5 rows x 41 columns]\n",
            "\n",
            "\n",
            "          country  1969  1970  1971  1972  1973  1974  1975  1976  1977  ...  \\\n",
            "170         Samoa   4.7   4.9   5.0   5.1   5.2   5.4   5.5   5.6   5.8  ...   \n",
            "171         Yemen   0.5   0.6   0.6   0.6   0.7   0.7   0.7   0.8   0.8  ...   \n",
            "172  South Africa   3.4   3.5   3.7   3.8   3.9   4.1   4.2   4.3   4.5  ...   \n",
            "173        Zambia   3.0   3.1   3.2   3.3   3.4   3.5   3.6   3.7   3.8  ...   \n",
            "174      Zimbabwe   2.9   3.1   3.2   3.3   3.4   3.6   3.7   3.8   4.0  ...   \n",
            "\n",
            "     1999  2000  2001  2002  2003  2004  2005  2006  2007  2008  \n",
            "170   8.8   8.9   9.1   9.2   9.3   9.4   9.5   9.7   9.8   9.9  \n",
            "171   2.7   2.8   2.9   3.0   3.1   3.2   3.3   3.4   3.5   3.6  \n",
            "172   7.3   7.4   7.6   7.7   7.8   8.0   8.1   8.2   8.4   8.5  \n",
            "173   6.5   6.6   6.7   6.8   6.9   7.0   7.1   7.3   7.4   7.5  \n",
            "174   7.1   7.2   7.3   7.5   7.6   7.8   7.9   8.0   8.2   8.3  \n",
            "\n",
            "[5 rows x 41 columns]\n"
          ]
        }
      ]
    },
    {
      "cell_type": "markdown",
      "source": [
        "**PERGUNTAS:**"
      ],
      "metadata": {
        "id": "ugQrQL91bBPg"
      }
    },
    {
      "cell_type": "markdown",
      "source": [
        "Quais foram os 5 países com maior média de anos de estudo para homens e mulheres nos anos de 1975?"
      ],
      "metadata": {
        "id": "yBX7heFF-xKM"
      }
    },
    {
      "cell_type": "code",
      "source": [
        "# países cujas mulheres com idade 25+ têm maior média de anos de estudo no ano de 1975\n",
        "m_maior_1975 = df_m[['country', '1975']].nlargest(5, '1975')\n",
        "print('Países com mais anos de estudo - MULHERES')\n",
        "print(m_maior_1975)\n",
        "\n",
        "print('\\n')\n",
        "\n",
        "# países cujos homens com idade 25+ têm maior média de anos de estudo no ano de 1975\n",
        "h_maior_1975 = df_h[['country', '1975']].nlargest(5, '1975')\n",
        "print('Países com mais anos de estudo - HOMENS')\n",
        "print(h_maior_1975)"
      ],
      "metadata": {
        "colab": {
          "base_uri": "https://localhost:8080/"
        },
        "id": "JkoU0ykzKrVp",
        "outputId": "e04da00b-c29f-4ce7-d66d-c2da45c0b4c1"
      },
      "execution_count": null,
      "outputs": [
        {
          "output_type": "stream",
          "name": "stdout",
          "text": [
            "Países com mais anos de estudo - MULHERES\n",
            "            country  1975\n",
            "165   United States  11.6\n",
            "25           Canada   9.9\n",
            "39   Czech Republic   9.8\n",
            "55   United Kingdom   9.3\n",
            "7         Australia   9.0\n",
            "\n",
            "\n",
            "Países com mais anos de estudo - HOMENS\n",
            "            country  1975\n",
            "165   United States  11.9\n",
            "39   Czech Republic  11.3\n",
            "26      Switzerland  10.6\n",
            "25           Canada  10.1\n",
            "55   United Kingdom  10.0\n"
          ]
        }
      ]
    },
    {
      "cell_type": "code",
      "source": [
        "# representação gráfica\n",
        "\n",
        "plt.figure(figsize=(12, 4))\n",
        "plt.suptitle('Países com Maior Média de Anos de Estudo para a Faixa Etária 25+ no Ano de 1975', fontsize=14, weight='bold', y=1.10)\n",
        "\n",
        "plt.subplot(1, 2, 1)  \n",
        "sns.barplot(x = m_maior_1975['country'], y = m_maior_1975['1975'])\n",
        "plt.title('MULHERES', fontsize=10, weight='bold')\n",
        "plt.xticks(rotation=45)\n",
        "\n",
        "plt.subplot(1, 2, 2)  \n",
        "sns.barplot(x = h_maior_1975['country'], y = h_maior_1975['1975'])\n",
        "plt.title('HOMENS', fontsize=10, weight='bold')\n",
        "plt.xticks(rotation=45)\n",
        "\n",
        "plt.tight_layout()\n",
        "plt.show()"
      ],
      "metadata": {
        "colab": {
          "base_uri": "https://localhost:8080/",
          "height": 337
        },
        "id": "XerIADCGRPYg",
        "outputId": "1f2c8869-452c-454d-c263-7f00b55d30ad"
      },
      "execution_count": null,
      "outputs": [
        {
          "output_type": "display_data",
          "data": {
            "text/plain": [
              "<Figure size 864x288 with 2 Axes>"
            ],
            "image/png": "[encoded data removed]"
          },
          "metadata": {
            "needs_background": "light"
          }
        }
      ]
    },
    {
      "cell_type": "markdown",
      "source": [
        "Quais foram os 5 países com menor média de anos de estudo para homens e mulheres nos anos de 1975?"
      ],
      "metadata": {
        "id": "tdyWSVuIXrdL"
      }
    },
    {
      "cell_type": "code",
      "source": [
        "# países cujas mulheres com idade 25+ têm menor média de anos de estudo no ano de 1975\n",
        "m_menor_1975 = df_m[['country', '1975']].nsmallest(5, '1975')\n",
        "print('Países com mais anos de estudo - MULHERES')\n",
        "print(m_menor_1975)\n",
        "\n",
        "print('\\n')\n",
        "\n",
        "# países cujos homens com idade 25+ têm menor média de anos de estudo no ano de 1975\n",
        "h_menor_1975 = df_h[['country', '1975']].nsmallest(5, '1975')\n",
        "print('Países com mais anos de estudo - HOMENS')\n",
        "print(h_menor_1975)"
      ],
      "metadata": {
        "colab": {
          "base_uri": "https://localhost:8080/"
        },
        "id": "dgfpz1k1Td0p",
        "outputId": "29f64187-71b8-4773-e417-9e72841a5a22"
      },
      "execution_count": null,
      "outputs": [
        {
          "output_type": "stream",
          "name": "stdout",
          "text": [
            "Países com mais anos de estudo - MULHERES\n",
            "          country  1975\n",
            "0     Afghanistan   0.1\n",
            "13   Burkina Faso   0.1\n",
            "50       Ethiopia   0.1\n",
            "112         Niger   0.1\n",
            "150          Chad   0.1\n",
            "\n",
            "\n",
            "Países com mais anos de estudo - HOMENS\n",
            "          country  1975\n",
            "112         Niger   0.3\n",
            "13   Burkina Faso   0.4\n",
            "50       Ethiopia   0.6\n",
            "102          Mali   0.6\n",
            "171         Yemen   0.7\n"
          ]
        }
      ]
    },
    {
      "cell_type": "code",
      "source": [
        "# representação gráfica\n",
        "\n",
        "plt.figure(figsize=(12, 4))\n",
        "plt.suptitle('Países com Menor Média de Anos de Estudo para a Faixa Etária 25+ no Ano de 1975', fontsize=14, weight='bold', y=1.10)\n",
        "\n",
        "plt.subplot(1, 2, 1)  \n",
        "sns.barplot(x = m_menor_1975['country'], y = m_menor_1975['1975'])\n",
        "plt.title('MULHERES', fontsize=10, weight='bold')\n",
        "plt.xticks(rotation=45)\n",
        "\n",
        "plt.subplot(1, 2, 2)  \n",
        "sns.barplot(x = h_menor_1975['country'], y = h_menor_1975['1975'])\n",
        "plt.title('HOMENS', fontsize=10, weight='bold')\n",
        "plt.xticks(rotation=45)\n",
        "\n",
        "plt.tight_layout()\n",
        "plt.show()"
      ],
      "metadata": {
        "colab": {
          "base_uri": "https://localhost:8080/",
          "height": 337
        },
        "id": "Ej3g4xF4YDZ4",
        "outputId": "859969d7-c2ed-40fc-d006-386c6d99b351"
      },
      "execution_count": null,
      "outputs": [
        {
          "output_type": "display_data",
          "data": {
            "text/plain": [
              "<Figure size 864x288 with 2 Axes>"
            ],
            "image/png": "[encoded data removed]"
          },
          "metadata": {
            "needs_background": "light"
          }
        }
      ]
    },
    {
      "cell_type": "markdown",
      "source": [
        "Como estão os dados referentes ao Brasil? É possível notar um aumento na média dos anos estudados no Brasil ao longo dos anos ou até décadas?"
      ],
      "metadata": {
        "id": "3UwmPdfObI6Z"
      }
    },
    {
      "cell_type": "code",
      "source": [
        "columns = [str(ano) for ano in list(range(1969, 2008))]\n",
        "columns.insert(0, 'country')\n",
        "df_m_brasil = df_m[columns].loc[df_m['country'] == 'Brazil']\n",
        "print('MULHERES\\n', df_m_brasil)\n",
        "\n",
        "print('\\n')\n",
        "\n",
        "columns = [str(ano) for ano in list(range(1969, 2008))]\n",
        "columns.insert(0, 'country')\n",
        "df_h_brasil = df_h[columns].loc[df_h['country'] == 'Brazil']\n",
        "print('HOMENS\\n', df_h_brasil)"
      ],
      "metadata": {
        "colab": {
          "base_uri": "https://localhost:8080/"
        },
        "id": "nKeR04LBYuyY",
        "outputId": "82c10272-3c4e-4bb1-f6b3-fb37ea8af2ae"
      },
      "execution_count": null,
      "outputs": [
        {
          "output_type": "stream",
          "name": "stdout",
          "text": [
            "MULHERES\n",
            "    country  1969  1970  1971  1972  1973  1974  1975  1976  1977  ...  1998  \\\n",
            "22  Brazil   2.1   2.2   2.3   2.4   2.5   2.6   2.7   2.8   2.9  ...   5.6   \n",
            "\n",
            "    1999  2000  2001  2002  2003  2004  2005  2006  2007  \n",
            "22   5.8   5.9   6.1   6.2   6.4   6.5   6.7   6.8   7.0  \n",
            "\n",
            "[1 rows x 40 columns]\n",
            "\n",
            "\n",
            "HOMENS\n",
            "    country  1969  1970  1971  1972  1973  1974  1975  1976  1977  ...  1998  \\\n",
            "22  Brazil   2.5   2.6   2.7   2.8   2.9   3.0   3.1   3.2   3.3  ...   5.6   \n",
            "\n",
            "    1999  2000  2001  2002  2003  2004  2005  2006  2007  \n",
            "22   5.7   5.8   6.0   6.1   6.2   6.3   6.4   6.6   6.7  \n",
            "\n",
            "[1 rows x 40 columns]\n"
          ]
        }
      ]
    },
    {
      "cell_type": "code",
      "source": [
        "plt.title('Evolução do Brasil na Média de Anos Estudados', fontsize=14, weight='bold', y=1.10)\n",
        "\n",
        "# mulheres\n",
        "sns.lineplot(\n",
        "    data=[df_m_brasil[ano].item() for ano in columns],\n",
        ")\n",
        "\n",
        "# homens\n",
        "sns.lineplot(\n",
        "    data=[df_h_brasil[ano].item() for ano in columns],\n",
        ")\n",
        "\n",
        "plt.legend('MH')\n",
        "\n",
        "plt.tight_layout()\n",
        "plt.show()"
      ],
      "metadata": {
        "colab": {
          "base_uri": "https://localhost:8080/",
          "height": 297
        },
        "id": "_q-RGoc7kiuV",
        "outputId": "3c6e705c-de01-48fc-96c2-f61870069361"
      },
      "execution_count": null,
      "outputs": [
        {
          "output_type": "display_data",
          "data": {
            "text/plain": [
              "<Figure size 432x288 with 1 Axes>"
            ],
            "image/png": "[encoded data removed]"
          },
          "metadata": {
            "needs_background": "light"
          }
        }
      ]
    },
    {
      "cell_type": "markdown",
      "source": [
        "Resposta: É possível verificar um aumento da média de anos estudados no Brasil ao longo do período amostrado, 1969-2008. E também, que a partir do ano de 1999 as mulheres ultrapassam os homens e se mantém com uma maior média de anos estudados."
      ],
      "metadata": {
        "id": "XdFZuYVznw1K"
      }
    }
  ]
}